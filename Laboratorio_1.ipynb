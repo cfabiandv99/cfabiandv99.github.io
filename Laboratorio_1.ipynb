{
  "nbformat": 4,
  "nbformat_minor": 0,
  "metadata": {
    "colab": {
      "provenance": [],
      "authorship_tag": "ABX9TyNJfs7A1lE5IFW9nFfxnP0n",
      "include_colab_link": true
    },
    "kernelspec": {
      "name": "python3",
      "display_name": "Python 3"
    },
    "language_info": {
      "name": "python"
    }
  },
  "cells": [
    {
      "cell_type": "markdown",
      "metadata": {
        "id": "view-in-github",
        "colab_type": "text"
      },
      "source": [
        "<a href=\"https://colab.research.google.com/github/cfabiandv99/cfabiandv99.github.io/blob/main/Laboratorio_1.ipynb\" target=\"_parent\"><img src=\"https://colab.research.google.com/assets/colab-badge.svg\" alt=\"Open In Colab\"/></a>"
      ]
    },
    {
      "cell_type": "markdown",
      "source": [
        "**Laboratorio No.1**\n"
      ],
      "metadata": {
        "id": "LxYd0yxTf0-g"
      }
    },
    {
      "cell_type": "code",
      "source": [
        "### SEMINARIO DE BIG DATA ###\n",
        "Presentado por: Carlos Fabian Diaz Vargas\n",
        "Codigo estudiantil: 90368\n",
        "Correo: carlosf.diazv@ecci.edu.co\n",
        "Programa: Ingenieria de sistemas"
      ],
      "metadata": {
        "id": "x-7AtR-PemVk"
      },
      "execution_count": null,
      "outputs": []
    },
    {
      "cell_type": "markdown",
      "source": [
        "**Import de librerias**\n",
        "\n"
      ],
      "metadata": {
        "id": "7F0E-ZyxfQmi"
      }
    },
    {
      "cell_type": "code",
      "execution_count": null,
      "metadata": {
        "id": "H-HPM-GkFuJU"
      },
      "outputs": [],
      "source": [
        "import pandas as pd\n",
        "import numpy as np\n",
        "import matplotlib. pyplot as plt"
      ]
    }
  ]
}