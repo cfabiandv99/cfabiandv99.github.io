{
  "cells": [
    {
      "cell_type": "markdown",
      "metadata": {
        "id": "view-in-github",
        "colab_type": "text"
      },
      "source": [
        "<a href=\"https://colab.research.google.com/github/cfabiandv99/cfabiandv99.github.io/blob/main/Laboratorio_2.ipynb\" target=\"_parent\"><img src=\"https://colab.research.google.com/assets/colab-badge.svg\" alt=\"Open In Colab\"/></a>"
      ]
    },
    {
      "cell_type": "markdown",
      "metadata": {
        "id": "eaWuPCeSCMrE"
      },
      "source": [
        "## Laboratorio No.2\n",
        "**Autor: Carlos Fabian Diaz Vargas**"
      ]
    },
    {
      "cell_type": "code",
      "execution_count": null,
      "metadata": {
        "colab": {
          "base_uri": "https://localhost:8080/"
        },
        "id": "gHGdXnH8TyYb",
        "outputId": "cf92c557-9ece-4834-d174-55e34b9f2cf5"
      },
      "outputs": [
        {
          "output_type": "stream",
          "name": "stdout",
          "text": [
            "Mounted at /content/drive\n"
          ]
        }
      ],
      "source": [
        "from google.colab import drive\n",
        "drive.mount('/content/drive')"
      ]
    },
    {
      "cell_type": "markdown",
      "metadata": {
        "id": "ATWWYNueQGse"
      },
      "source": [
        "## Playing with pandas"
      ]
    },
    {
      "cell_type": "code",
      "execution_count": null,
      "metadata": {
        "id": "602OX1c4QGau"
      },
      "outputs": [],
      "source": [
        "import pandas as pd\n",
        "flights_file1 = \"/content/drive/MyDrive/SEMINARIO BIG DATA/PROFESOR ELIAS/EJERCICIOS/Pandas vs Polars vs Spark vs Dask/DATOS/Combined_Flights_2018 .parquet\"\n",
        "flights_file2 = \"/content/drive/MyDrive/SEMINARIO BIG DATA/PROFESOR ELIAS/EJERCICIOS/Pandas vs Polars vs Spark vs Dask/DATOS/Combined_Flights_2019.parquet\"\n",
        "#flights_file3 = \"/content/drive/MyDrive/SEMINARIO BIG DATA/PROFESOR ELIAS/EJERCICIOS/Pandas vs Polars vs Spark vs Dask/DATOS/Combined_Flights_2020.parquet\"\n",
        "#flights_file4 = \"/content/drive/MyDrive/SEMINARIO BIG DATA/PROFESOR ELIAS/EJERCICIOS/Pandas vs Polars vs Spark vs Dask/DATOS/Combined_Flights_2021.parquet\"\n",
        "# flights_file5 = \"/content/drive/MyDrive/SEMINARIO BIG DATA/PROFESOR ELIAS/EJERCICIOS/Pandas vs Polars vs Spark vs Dask/DATOS/Combined_Flights_2022.parquet\"\n",
        "df1 = pd.read_parquet(flights_file1)\n",
        "df2 = pd.read_parquet(flights_file2)\n",
        "# df3 = pd.read_parquet(flights_file3)\n",
        "# df4 = pd.read_parquet(flights_file4)\n",
        "# df5 = pd.read_parquet(flights_file5)"
      ]
    },
    {
      "cell_type": "code",
      "execution_count": null,
      "metadata": {
        "id": "u2jGy-fGWxBj"
      },
      "outputs": [],
      "source": [
        "# df = pd.concat([df3, df5])\n",
        "df = df2"
      ]
    },
    {
      "cell_type": "code",
      "execution_count": null,
      "metadata": {
        "id": "ZaJZYO4rQWmn"
      },
      "outputs": [],
      "source": [
        "# %%timeit\n",
        "\n",
        "df_agg = df.groupby(['Airline','Year'])[[\"DepDelayMinutes\", \"ArrDelayMinutes\"]].agg(\n",
        "    [\"mean\", \"sum\", \"max\"]\n",
        ")\n",
        "df_agg = df_agg.reset_index()\n",
        "df_agg.to_parquet(\"temp_pandas.parquet\")"
      ]
    },
    {
      "cell_type": "code",
      "execution_count": null,
      "metadata": {
        "id": "AyVTxkpsRx5n"
      },
      "outputs": [],
      "source": [
        "!ls -GFlash temp_pandas.parquet"
      ]
    },
    {
      "cell_type": "code",
      "execution_count": null,
      "metadata": {
        "id": "wQfxFHKkRUjt"
      },
      "outputs": [],
      "source": [
        "pd.read_parquet('temp_pandas.parquet')"
      ]
    },
    {
      "cell_type": "code",
      "source": [
        "pd.read_parquet('temp_pandas.parquet').info()"
      ],
      "metadata": {
        "id": "N-HI3Ir2Ovad"
      },
      "execution_count": null,
      "outputs": []
    },
    {
      "cell_type": "markdown",
      "metadata": {
        "id": "HE9EI1NLBLtT"
      },
      "source": [
        "## Playing with Polars"
      ]
    },
    {
      "cell_type": "code",
      "execution_count": null,
      "metadata": {
        "id": "o-ICGOARBMWp"
      },
      "outputs": [],
      "source": [
        "import polars as pl"
      ]
    },
    {
      "cell_type": "code",
      "execution_count": null,
      "metadata": {
        "id": "8QiIC2snMFgY"
      },
      "outputs": [],
      "source": [
        "flights_file1 = \"/content/drive/MyDrive/SEMINARIO BIG DATA/EJERCICIOS/CLASE 02.07.2024/Combined_Flights_2018 .parquet\"\n",
        "flights_file2 = \"/content/drive/MyDrive/SEMINARIO BIG DATA/EJERCICIOS/CLASE 02.07.2024/Combined_Flights_2019.parquet\"\n",
        "flights_file3 = \"/content/drive/MyDrive/SEMINARIO BIG DATA/EJERCICIOS/CLASE 02.07.2024/Combined_Flights_2020.parquet\"\n",
        "flights_file4 = \"/content/drive/MyDrive/SEMINARIO BIG DATA/EJERCICIOS/CLASE 02.07.2024/Combined_Flights_2021.parquet\"\n",
        "flights_file5 = \"/content/drive/MyDrive/SEMINARIO BIG DATA/EJERCICIOS/CLASE 02.07.2024/Combined_Flights_2022.parquet\"\n",
        "df1 = pl.scan_parquet(flights_file1)\n",
        "df2 = pl.scan_parquet(flights_file2)\n",
        "df3 = pl.scan_parquet(flights_file3)\n",
        "df4 = pl.scan_parquet(flights_file4)\n",
        "df5 = pl.scan_parquet(flights_file5)"
      ]
    },
    {
      "cell_type": "code",
      "execution_count": null,
      "metadata": {
        "colab": {
          "base_uri": "https://localhost:8080/"
        },
        "id": "szmAqqA9oriG",
        "outputId": "b85e7d7d-2739-4868-cdef-a057be15b68c"
      },
      "outputs": [
        {
          "output_type": "stream",
          "name": "stderr",
          "text": [
            "<magic-timeit>:3: DeprecationWarning: `groupby` is deprecated. It has been renamed to `group_by`.\n"
          ]
        },
        {
          "output_type": "stream",
          "name": "stdout",
          "text": [
            "10.7 s ± 879 ms per loop (mean ± std. dev. of 7 runs, 1 loop each)\n"
          ]
        }
      ],
      "source": [
        " %%timeit\n",
        "\n",
        "df_polars = (\n",
        "    pl.concat([df1, df2, df3, df4, df5])\n",
        "    .groupby(['Airline', 'Year'])\n",
        "    .agg([\n",
        "        pl.col(\"DepDelayMinutes\").mean().alias(\"avg_dep_delay\"),\n",
        "        pl.col(\"DepDelayMinutes\").sum().alias(\"sum_dep_delay\"),\n",
        "        pl.col(\"DepDelayMinutes\").max().alias(\"max_dep_delay\"),\n",
        "        pl.col(\"ArrDelayMinutes\").mean().alias(\"avg_arr_delay\"),\n",
        "        pl.col(\"ArrDelayMinutes\").sum().alias(\"sum_arr_delay\"),\n",
        "        pl.col(\"ArrDelayMinutes\").max().alias(\"max_arr_delay\"),\n",
        "      ])\n",
        ").collect()\n",
        "\n",
        "df_polars.write_parquet('temp_polars.parquet')"
      ]
    },
    {
      "cell_type": "code",
      "execution_count": null,
      "metadata": {
        "colab": {
          "base_uri": "https://localhost:8080/"
        },
        "id": "ILHEl0a7LrFK",
        "outputId": "df8fb491-a2c3-4c4a-e203-4da2c94062c2"
      },
      "outputs": [
        {
          "output_type": "stream",
          "name": "stdout",
          "text": [
            "12K -rw-r--r-- 1 root 8.1K Jul  3 00:29 temp_polars.parquet\n"
          ]
        }
      ],
      "source": [
        "!ls -GFlash temp_polars.parquet"
      ]
    },
    {
      "cell_type": "markdown",
      "metadata": {
        "id": "q18Ab20QtZuk"
      },
      "source": [
        "## Playing with PySpark"
      ]
    },
    {
      "cell_type": "code",
      "execution_count": null,
      "metadata": {
        "colab": {
          "base_uri": "https://localhost:8080/"
        },
        "id": "YGZSQ1f7CuIk",
        "outputId": "51b92442-c03f-480b-9f68-fdf3e06be408"
      },
      "outputs": [
        {
          "output_type": "stream",
          "name": "stdout",
          "text": [
            "Requirement already satisfied: pyspark in /usr/local/lib/python3.10/dist-packages (3.5.1)\n",
            "Requirement already satisfied: py4j==0.10.9.7 in /usr/local/lib/python3.10/dist-packages (from pyspark) (0.10.9.7)\n"
          ]
        }
      ],
      "source": [
        "!pip install pyspark"
      ]
    },
    {
      "cell_type": "code",
      "execution_count": null,
      "metadata": {
        "id": "Nj7EkKhiqCx5"
      },
      "outputs": [],
      "source": [
        "from pyspark.sql import SparkSession\n",
        "from pyspark.sql.functions import avg, max, sum, concat"
      ]
    },
    {
      "cell_type": "code",
      "execution_count": null,
      "metadata": {
        "id": "Bt7X5e0RtXwL"
      },
      "outputs": [],
      "source": [
        "spark = SparkSession.builder.master(\"local[1]\").appName(\"airline-example\").getOrCreate()"
      ]
    },
    {
      "cell_type": "code",
      "execution_count": null,
      "metadata": {
        "id": "zDVr-FSK0NDz"
      },
      "outputs": [],
      "source": [
        "flights_file1 = \"/content/drive/MyDrive/SEMINARIO BIG DATA/PROFESOR ELIAS/EJERCICIOS/Pandas vs Polars vs Spark vs Dask/DATOS/Combined_Flights_2018 .parquet\"\n",
        "flights_file2 = \"/content/drive/MyDrive/SEMINARIO BIG DATA/PROFESOR ELIAS/EJERCICIOS/Pandas vs Polars vs Spark vs Dask/DATOS/Combined_Flights_2019.parquet\"\n",
        "flights_file3 = \"/content/drive/MyDrive/SEMINARIO BIG DATA/PROFESOR ELIAS/EJERCICIOS/Pandas vs Polars vs Spark vs Dask/DATOS/Combined_Flights_2020.parquet\"\n",
        "flights_file4 = \"/content/drive/MyDrive/SEMINARIO BIG DATA/PROFESOR ELIAS/EJERCICIOS/Pandas vs Polars vs Spark vs Dask/DATOS/Combined_Flights_2021.parquet\"\n",
        "flights_file5 = \"/content/drive/MyDrive/SEMINARIO BIG DATA/PROFESOR ELIAS/EJERCICIOS/Pandas vs Polars vs Spark vs Dask/DATOS/Combined_Flights_2022.parquet\""
      ]
    },
    {
      "cell_type": "code",
      "execution_count": null,
      "metadata": {
        "id": "pyOR3XRj78kl"
      },
      "outputs": [],
      "source": [
        "df_spark1 = spark.read.parquet(flights_file1)\n",
        "df_spark2 = spark.read.parquet(flights_file2)\n",
        "df_spark3 = spark.read.parquet(flights_file3)\n",
        "df_spark4 = spark.read.parquet(flights_file4)\n",
        "df_spark5 = spark.read.parquet(flights_file5)"
      ]
    },
    {
      "cell_type": "code",
      "execution_count": null,
      "metadata": {
        "id": "csm8vFBq8GJ1"
      },
      "outputs": [],
      "source": [
        "df_spark = df_spark1.union(df_spark2)\n",
        "df_spark = df_spark.union(df_spark3)\n",
        "df_spark = df_spark.union(df_spark4)\n",
        "df_spark = df_spark.union(df_spark5)"
      ]
    },
    {
      "cell_type": "code",
      "execution_count": null,
      "metadata": {
        "colab": {
          "base_uri": "https://localhost:8080/"
        },
        "id": "sjzLE2Ek4VX0",
        "outputId": "504b60c4-aec4-43db-cdb4-df1789da107a"
      },
      "outputs": [
        {
          "output_type": "stream",
          "name": "stdout",
          "text": [
            "10.1 s ± 743 ms per loop (mean ± std. dev. of 7 runs, 1 loop each)\n"
          ]
        }
      ],
      "source": [
        " %%timeit\n",
        "\n",
        "df_spark_agg = df_spark.groupby(\"Airline\", \"Year\").agg(\n",
        "    avg(\"ArrDelayMinutes\").alias('avg_arr_delay'),\n",
        "    sum(\"ArrDelayMinutes\").alias('sum_arr_delay'),\n",
        "    max(\"ArrDelayMinutes\").alias('max_arr_delay'),\n",
        "    avg(\"DepDelayMinutes\").alias('avg_dep_delay'),\n",
        "    sum(\"DepDelayMinutes\").alias('sum_dep_delay'),\n",
        "    max(\"DepDelayMinutes\").alias('max_dep_delay'),\n",
        ")\n",
        "df_spark_agg.write.mode('overwrite').parquet('temp_spark.parquet')"
      ]
    },
    {
      "cell_type": "code",
      "execution_count": null,
      "metadata": {
        "colab": {
          "base_uri": "https://localhost:8080/"
        },
        "id": "XPPoeSYZ_d9A",
        "outputId": "bd9a5636-7b38-422d-9b5b-93ace4aa9fe9"
      },
      "outputs": [
        {
          "output_type": "stream",
          "name": "stdout",
          "text": [
            "total 24K\n",
            "4.0K drwxr-xr-x 2 root 4.0K Jun 19 19:50 ./\n",
            "4.0K drwxr-xr-x 1 root 4.0K Jun 19 20:08 ../\n",
            "8.0K -rw-r--r-- 1 root 7.5K Jun 19 19:50 part-00000-d120adcf-cbd9-4950-a0e9-617fa7ca2c45-c000.snappy.parquet\n",
            "4.0K -rw-r--r-- 1 root   68 Jun 19 19:50 .part-00000-d120adcf-cbd9-4950-a0e9-617fa7ca2c45-c000.snappy.parquet.crc\n",
            "   0 -rw-r--r-- 1 root    0 Jun 19 19:50 _SUCCESS\n",
            "4.0K -rw-r--r-- 1 root    8 Jun 19 19:50 ._SUCCESS.crc\n"
          ]
        }
      ],
      "source": [
        "!ls -GFlash temp_pyspark.parquet"
      ]
    },
    {
      "cell_type": "markdown",
      "metadata": {
        "id": "zOsqlhgZa4ym"
      },
      "source": [
        "## Playing with dask"
      ]
    },
    {
      "cell_type": "code",
      "execution_count": null,
      "metadata": {
        "id": "b0Jo8Yv3a-at"
      },
      "outputs": [],
      "source": [
        "import pandas as pd\n",
        "import dask.dataframe as dd\n",
        "flights_file1 = \"/content/drive/MyDrive/SEMINARIO BIG DATA/PROFESOR ELIAS/EJERCICIOS/Pandas vs Polars vs Spark vs Dask/DATOS/Combined_Flights_2018 .parquet\"\n",
        "flights_file2 = \"/content/drive/MyDrive/SEMINARIO BIG DATA/PROFESOR ELIAS/EJERCICIOS/Pandas vs Polars vs Spark vs Dask/DATOS/Combined_Flights_2019.parquet\"\n",
        "flights_file3 = \"/content/drive/MyDrive/SEMINARIO BIG DATA/PROFESOR ELIAS/EJERCICIOS/Pandas vs Polars vs Spark vs Dask/DATOS/Combined_Flights_2020.parquet\"\n",
        "flights_file4 = \"/content/drive/MyDrive/SEMINARIO BIG DATA/PROFESOR ELIAS/EJERCICIOS/Pandas vs Polars vs Spark vs Dask/DATOS/Combined_Flights_2021.parquet\"\n",
        "flights_file5 = \"/content/drive/MyDrive/SEMINARIO BIG DATA/PROFESOR ELIAS/EJERCICIOS/Pandas vs Polars vs Spark vs Dask/DATOS/Combined_Flights_2022.parquet\"\n",
        "df1 = dd.read_parquet(flights_file1)\n",
        "df2 = dd.read_parquet(flights_file2)\n",
        "df3 = dd.read_parquet(flights_file3)\n",
        "df4 = dd.read_parquet(flights_file4)\n",
        "df5 = dd.read_parquet(flights_file5)"
      ]
    },
    {
      "cell_type": "code",
      "execution_count": null,
      "metadata": {
        "id": "xO9JqZWPbMXU"
      },
      "outputs": [],
      "source": [
        "df = dd.concat([df3, df5])"
      ]
    },
    {
      "cell_type": "code",
      "execution_count": null,
      "metadata": {
        "colab": {
          "base_uri": "https://localhost:8080/"
        },
        "id": "GId3fTGsbcwd",
        "outputId": "20adad84-cc81-4cf0-d5f0-67053ac79808"
      },
      "outputs": [
        {
          "output_type": "stream",
          "name": "stdout",
          "text": [
            "       FlightDate            Airline Origin Dest  Cancelled  Diverted  \\\n",
            "0      2020-09-01        Comair Inc.    PHL  DAY      False     False   \n",
            "1      2020-09-02        Comair Inc.    PHL  DAY      False     False   \n",
            "2      2020-09-03        Comair Inc.    PHL  DAY      False     False   \n",
            "3      2020-09-04        Comair Inc.    PHL  DAY      False     False   \n",
            "4      2020-09-05        Comair Inc.    PHL  DAY      False     False   \n",
            "...           ...                ...    ...  ...        ...       ...   \n",
            "590537 2022-03-31  Republic Airlines    MSY  EWR      False      True   \n",
            "590538 2022-03-17  Republic Airlines    CLT  EWR       True     False   \n",
            "590539 2022-03-08  Republic Airlines    ALB  ORD      False     False   \n",
            "590540 2022-03-25  Republic Airlines    EWR  PIT      False      True   \n",
            "590541 2022-03-07  Republic Airlines    EWR  RDU      False      True   \n",
            "\n",
            "        CRSDepTime  DepTime  DepDelayMinutes  DepDelay  ...  WheelsOff  \\\n",
            "0             1905   1858.0              0.0      -7.0  ...     1914.0   \n",
            "1             1905   1858.0              0.0      -7.0  ...     1914.0   \n",
            "2             1905   1855.0              0.0     -10.0  ...     2000.0   \n",
            "3             1905   1857.0              0.0      -8.0  ...     1910.0   \n",
            "4             1905   1856.0              0.0      -9.0  ...     1910.0   \n",
            "...            ...      ...              ...       ...  ...        ...   \n",
            "590537        1949   2014.0             25.0      25.0  ...     2031.0   \n",
            "590538        1733   1817.0             44.0      44.0  ...        NaN   \n",
            "590539        1700   2318.0            378.0     378.0  ...     2337.0   \n",
            "590540        2129   2322.0            113.0     113.0  ...     2347.0   \n",
            "590541        1154   1148.0              0.0      -6.0  ...     1201.0   \n",
            "\n",
            "        WheelsOn  TaxiIn  CRSArrTime  ArrDelay  ArrDel15  ArrivalDelayGroups  \\\n",
            "0         2030.0     4.0        2056     -22.0       0.0                -2.0   \n",
            "1         2022.0     5.0        2056     -29.0       0.0                -2.0   \n",
            "2         2117.0     5.0        2056      26.0       1.0                 1.0   \n",
            "3         2023.0     4.0        2056     -29.0       0.0                -2.0   \n",
            "4         2022.0     4.0        2056     -30.0       0.0                -2.0   \n",
            "...          ...     ...         ...       ...       ...                 ...   \n",
            "590537     202.0    32.0        2354       NaN       NaN                 NaN   \n",
            "590538       NaN     NaN        1942       NaN       NaN                 NaN   \n",
            "590539      52.0     7.0        1838     381.0       1.0                12.0   \n",
            "590540     933.0     6.0        2255       NaN       NaN                 NaN   \n",
            "590541    1552.0     4.0        1333       NaN       NaN                 NaN   \n",
            "\n",
            "        ArrTimeBlk  DistanceGroup  DivAirportLandings  \n",
            "0        2000-2059              2                 0.0  \n",
            "1        2000-2059              2                 0.0  \n",
            "2        2000-2059              2                 0.0  \n",
            "3        2000-2059              2                 0.0  \n",
            "4        2000-2059              2                 0.0  \n",
            "...            ...            ...                 ...  \n",
            "590537   2300-2359              5                 1.0  \n",
            "590538   1900-1959              3                 0.0  \n",
            "590539   1800-1859              3                 0.0  \n",
            "590540   2200-2259              2                 1.0  \n",
            "590541   1300-1359              2                 1.0  \n",
            "\n",
            "[9100715 rows x 61 columns]\n"
          ]
        }
      ],
      "source": [
        "print(df.compute())"
      ]
    },
    {
      "cell_type": "code",
      "execution_count": null,
      "metadata": {
        "id": "ush5yY-cfdNh"
      },
      "outputs": [],
      "source": [
        "df = df.compute()"
      ]
    },
    {
      "cell_type": "code",
      "execution_count": null,
      "metadata": {
        "id": "mQ0sNsonboJ3"
      },
      "outputs": [],
      "source": [
        "# %%timeit\n",
        "\n",
        "df_agg = df.groupby(['Airline','Year'])[[\"DepDelayMinutes\", \"ArrDelayMinutes\"]].agg(\n",
        "    [\"mean\", \"sum\", \"max\"]\n",
        ")\n",
        "df_agg = df_agg.reset_index()\n",
        "df_agg.to_parquet(\"temp_dask.parquet\")"
      ]
    },
    {
      "cell_type": "code",
      "execution_count": null,
      "metadata": {
        "id": "nuUMEqtlfvNQ"
      },
      "outputs": [],
      "source": [
        "!ls -GFlash temp_pandas.parquet"
      ]
    },
    {
      "cell_type": "code",
      "execution_count": null,
      "metadata": {
        "id": "9oQc1A7kf2n3"
      },
      "outputs": [],
      "source": [
        "pd.read_parquet('temp_dask.parquet').info()"
      ]
    },
    {
      "cell_type": "code",
      "source": [
        "pd.read_parquet('temp_dask.parquet')"
      ],
      "metadata": {
        "id": "fsZQ_0czOB8H"
      },
      "execution_count": null,
      "outputs": []
    },
    {
      "cell_type": "markdown",
      "metadata": {
        "id": "a9sBWLJoAl8G"
      },
      "source": [
        "## Read Results"
      ]
    },
    {
      "cell_type": "code",
      "execution_count": null,
      "metadata": {
        "id": "wJ9t6MyjAkeH"
      },
      "outputs": [],
      "source": [
        "import pandas as pd"
      ]
    },
    {
      "cell_type": "code",
      "execution_count": null,
      "metadata": {
        "id": "QO-xgM-AAt_C"
      },
      "outputs": [],
      "source": [
        "agg_pandas = pd.read_parquet('temp_pandas.parquet')\n",
        "agg_polars = pd.read_parquet('temp_polars.parquet')\n",
        "agg_spark = pd.read_parquet('temp_spark.parquet')\n",
        "agg_dask = pd.read_parquet('temp_dask.parquet')"
      ]
    },
    {
      "cell_type": "code",
      "source": [
        "agg_pandas.shape, agg_polars.shape, agg_spark.shape, agg_dask.shape"
      ],
      "metadata": {
        "colab": {
          "base_uri": "https://localhost:8080/"
        },
        "id": "2EvukOhTP1Gd",
        "outputId": "ca68851d-b9d1-4010-fce4-36c2450864b7"
      },
      "execution_count": null,
      "outputs": [
        {
          "output_type": "execute_result",
          "data": {
            "text/plain": [
              "((26, 8), (122, 8), (122, 8), (26, 8))"
            ]
          },
          "metadata": {},
          "execution_count": 18
        }
      ]
    },
    {
      "cell_type": "code",
      "source": [
        "agg_pandas.sort_values(['Airline','Year']).head()"
      ],
      "metadata": {
        "colab": {
          "base_uri": "https://localhost:8080/",
          "height": 237
        },
        "id": "gKRlZewAUTdV",
        "outputId": "daaa3a2c-715b-476c-b8e6-2466ba98c7ed"
      },
      "execution_count": null,
      "outputs": [
        {
          "output_type": "execute_result",
          "data": {
            "text/plain": [
              "                       Airline  Year DepDelayMinutes                      \\\n",
              "                                                mean         sum     max   \n",
              "0  Air Wisconsin Airlines Corp  2019       16.868511   1742281.0  1690.0   \n",
              "1         Alaska Airlines Inc.  2019        9.836041   2576246.0  1117.0   \n",
              "2                Allegiant Air  2019       14.678433   1536876.0  1979.0   \n",
              "3       American Airlines Inc.  2019       14.895515  13814816.0  2315.0   \n",
              "4  Capital Cargo International  2019       11.525332   1367642.0  1182.0   \n",
              "\n",
              "  ArrDelayMinutes                      \n",
              "             mean         sum     max  \n",
              "0       17.610384   1811545.0  1707.0  \n",
              "1       10.787284   2815643.0  1087.0  \n",
              "2       15.556524   1624770.0  1966.0  \n",
              "3       15.251863  14096412.0  2350.0  \n",
              "4       12.489465   1474806.0  1190.0  "
            ],
            "text/html": [
              "\n",
              "  <div id=\"df-c13c19c4-ce91-44aa-a5d2-ec601c7202d0\">\n",
              "    <div class=\"colab-df-container\">\n",
              "      <div>\n",
              "<style scoped>\n",
              "    .dataframe tbody tr th:only-of-type {\n",
              "        vertical-align: middle;\n",
              "    }\n",
              "\n",
              "    .dataframe tbody tr th {\n",
              "        vertical-align: top;\n",
              "    }\n",
              "\n",
              "    .dataframe thead tr th {\n",
              "        text-align: left;\n",
              "    }\n",
              "</style>\n",
              "<table border=\"1\" class=\"dataframe\">\n",
              "  <thead>\n",
              "    <tr>\n",
              "      <th></th>\n",
              "      <th>Airline</th>\n",
              "      <th>Year</th>\n",
              "      <th colspan=\"3\" halign=\"left\">DepDelayMinutes</th>\n",
              "      <th colspan=\"3\" halign=\"left\">ArrDelayMinutes</th>\n",
              "    </tr>\n",
              "    <tr>\n",
              "      <th></th>\n",
              "      <th></th>\n",
              "      <th></th>\n",
              "      <th>mean</th>\n",
              "      <th>sum</th>\n",
              "      <th>max</th>\n",
              "      <th>mean</th>\n",
              "      <th>sum</th>\n",
              "      <th>max</th>\n",
              "    </tr>\n",
              "  </thead>\n",
              "  <tbody>\n",
              "    <tr>\n",
              "      <th>0</th>\n",
              "      <td>Air Wisconsin Airlines Corp</td>\n",
              "      <td>2019</td>\n",
              "      <td>16.868511</td>\n",
              "      <td>1742281.0</td>\n",
              "      <td>1690.0</td>\n",
              "      <td>17.610384</td>\n",
              "      <td>1811545.0</td>\n",
              "      <td>1707.0</td>\n",
              "    </tr>\n",
              "    <tr>\n",
              "      <th>1</th>\n",
              "      <td>Alaska Airlines Inc.</td>\n",
              "      <td>2019</td>\n",
              "      <td>9.836041</td>\n",
              "      <td>2576246.0</td>\n",
              "      <td>1117.0</td>\n",
              "      <td>10.787284</td>\n",
              "      <td>2815643.0</td>\n",
              "      <td>1087.0</td>\n",
              "    </tr>\n",
              "    <tr>\n",
              "      <th>2</th>\n",
              "      <td>Allegiant Air</td>\n",
              "      <td>2019</td>\n",
              "      <td>14.678433</td>\n",
              "      <td>1536876.0</td>\n",
              "      <td>1979.0</td>\n",
              "      <td>15.556524</td>\n",
              "      <td>1624770.0</td>\n",
              "      <td>1966.0</td>\n",
              "    </tr>\n",
              "    <tr>\n",
              "      <th>3</th>\n",
              "      <td>American Airlines Inc.</td>\n",
              "      <td>2019</td>\n",
              "      <td>14.895515</td>\n",
              "      <td>13814816.0</td>\n",
              "      <td>2315.0</td>\n",
              "      <td>15.251863</td>\n",
              "      <td>14096412.0</td>\n",
              "      <td>2350.0</td>\n",
              "    </tr>\n",
              "    <tr>\n",
              "      <th>4</th>\n",
              "      <td>Capital Cargo International</td>\n",
              "      <td>2019</td>\n",
              "      <td>11.525332</td>\n",
              "      <td>1367642.0</td>\n",
              "      <td>1182.0</td>\n",
              "      <td>12.489465</td>\n",
              "      <td>1474806.0</td>\n",
              "      <td>1190.0</td>\n",
              "    </tr>\n",
              "  </tbody>\n",
              "</table>\n",
              "</div>\n",
              "      <button class=\"colab-df-convert\" onclick=\"convertToInteractive('df-c13c19c4-ce91-44aa-a5d2-ec601c7202d0')\"\n",
              "              title=\"Convert this dataframe to an interactive table.\"\n",
              "              style=\"display:none;\">\n",
              "        \n",
              "  <svg xmlns=\"http://www.w3.org/2000/svg\" height=\"24px\"viewBox=\"0 0 24 24\"\n",
              "       width=\"24px\">\n",
              "    <path d=\"M0 0h24v24H0V0z\" fill=\"none\"/>\n",
              "    <path d=\"M18.56 5.44l.94 2.06.94-2.06 2.06-.94-2.06-.94-.94-2.06-.94 2.06-2.06.94zm-11 1L8.5 8.5l.94-2.06 2.06-.94-2.06-.94L8.5 2.5l-.94 2.06-2.06.94zm10 10l.94 2.06.94-2.06 2.06-.94-2.06-.94-.94-2.06-.94 2.06-2.06.94z\"/><path d=\"M17.41 7.96l-1.37-1.37c-.4-.4-.92-.59-1.43-.59-.52 0-1.04.2-1.43.59L10.3 9.45l-7.72 7.72c-.78.78-.78 2.05 0 2.83L4 21.41c.39.39.9.59 1.41.59.51 0 1.02-.2 1.41-.59l7.78-7.78 2.81-2.81c.8-.78.8-2.07 0-2.86zM5.41 20L4 18.59l7.72-7.72 1.47 1.35L5.41 20z\"/>\n",
              "  </svg>\n",
              "      </button>\n",
              "      \n",
              "  <style>\n",
              "    .colab-df-container {\n",
              "      display:flex;\n",
              "      flex-wrap:wrap;\n",
              "      gap: 12px;\n",
              "    }\n",
              "\n",
              "    .colab-df-convert {\n",
              "      background-color: #E8F0FE;\n",
              "      border: none;\n",
              "      border-radius: 50%;\n",
              "      cursor: pointer;\n",
              "      display: none;\n",
              "      fill: #1967D2;\n",
              "      height: 32px;\n",
              "      padding: 0 0 0 0;\n",
              "      width: 32px;\n",
              "    }\n",
              "\n",
              "    .colab-df-convert:hover {\n",
              "      background-color: #E2EBFA;\n",
              "      box-shadow: 0px 1px 2px rgba(60, 64, 67, 0.3), 0px 1px 3px 1px rgba(60, 64, 67, 0.15);\n",
              "      fill: #174EA6;\n",
              "    }\n",
              "\n",
              "    [theme=dark] .colab-df-convert {\n",
              "      background-color: #3B4455;\n",
              "      fill: #D2E3FC;\n",
              "    }\n",
              "\n",
              "    [theme=dark] .colab-df-convert:hover {\n",
              "      background-color: #434B5C;\n",
              "      box-shadow: 0px 1px 3px 1px rgba(0, 0, 0, 0.15);\n",
              "      filter: drop-shadow(0px 1px 2px rgba(0, 0, 0, 0.3));\n",
              "      fill: #FFFFFF;\n",
              "    }\n",
              "  </style>\n",
              "\n",
              "      <script>\n",
              "        const buttonEl =\n",
              "          document.querySelector('#df-c13c19c4-ce91-44aa-a5d2-ec601c7202d0 button.colab-df-convert');\n",
              "        buttonEl.style.display =\n",
              "          google.colab.kernel.accessAllowed ? 'block' : 'none';\n",
              "\n",
              "        async function convertToInteractive(key) {\n",
              "          const element = document.querySelector('#df-c13c19c4-ce91-44aa-a5d2-ec601c7202d0');\n",
              "          const dataTable =\n",
              "            await google.colab.kernel.invokeFunction('convertToInteractive',\n",
              "                                                     [key], {});\n",
              "          if (!dataTable) return;\n",
              "\n",
              "          const docLinkHtml = 'Like what you see? Visit the ' +\n",
              "            '<a target=\"_blank\" href=https://colab.research.google.com/notebooks/data_table.ipynb>data table notebook</a>'\n",
              "            + ' to learn more about interactive tables.';\n",
              "          element.innerHTML = '';\n",
              "          dataTable['output_type'] = 'display_data';\n",
              "          await google.colab.output.renderOutput(dataTable, element);\n",
              "          const docLink = document.createElement('div');\n",
              "          docLink.innerHTML = docLinkHtml;\n",
              "          element.appendChild(docLink);\n",
              "        }\n",
              "      </script>\n",
              "    </div>\n",
              "  </div>\n",
              "  "
            ]
          },
          "metadata": {},
          "execution_count": 6
        }
      ]
    },
    {
      "cell_type": "code",
      "source": [
        "agg_polars.sort_values(['Airline','Year']).head()"
      ],
      "metadata": {
        "colab": {
          "base_uri": "https://localhost:8080/",
          "height": 510
        },
        "id": "FGnPt7H9UoFP",
        "outputId": "7837a416-c4c1-4e65-fcac-1b0d6a3f1a7f"
      },
      "execution_count": null,
      "outputs": [
        {
          "output_type": "execute_result",
          "data": {
            "text/plain": [
              "                         Airline  Year  avg_dep_delay  sum_dep_delay  \\\n",
              "28   Air Wisconsin Airlines Corp  2018      16.753459      1606774.0   \n",
              "54   Air Wisconsin Airlines Corp  2019      16.868511      1742281.0   \n",
              "106  Air Wisconsin Airlines Corp  2020       8.583725       433315.0   \n",
              "6    Air Wisconsin Airlines Corp  2021      16.553045      1290194.0   \n",
              "67   Air Wisconsin Airlines Corp  2022      13.124801       510581.0   \n",
              "\n",
              "     max_dep_delay  avg_arr_delay  sum_arr_delay  max_arr_delay  \n",
              "28          1296.0      17.881934      1708887.0         1292.0  \n",
              "54          1690.0      17.610384      1811545.0         1707.0  \n",
              "106         1460.0       8.982529       452450.0         1439.0  \n",
              "6           1421.0      17.327440      1346602.0         1416.0  \n",
              "67          1355.0      13.340409       517261.0         1353.0  "
            ],
            "text/html": [
              "\n",
              "  <div id=\"df-ecba8b1f-64ee-44dd-828c-62a006898e3e\">\n",
              "    <div class=\"colab-df-container\">\n",
              "      <div>\n",
              "<style scoped>\n",
              "    .dataframe tbody tr th:only-of-type {\n",
              "        vertical-align: middle;\n",
              "    }\n",
              "\n",
              "    .dataframe tbody tr th {\n",
              "        vertical-align: top;\n",
              "    }\n",
              "\n",
              "    .dataframe thead th {\n",
              "        text-align: right;\n",
              "    }\n",
              "</style>\n",
              "<table border=\"1\" class=\"dataframe\">\n",
              "  <thead>\n",
              "    <tr style=\"text-align: right;\">\n",
              "      <th></th>\n",
              "      <th>Airline</th>\n",
              "      <th>Year</th>\n",
              "      <th>avg_dep_delay</th>\n",
              "      <th>sum_dep_delay</th>\n",
              "      <th>max_dep_delay</th>\n",
              "      <th>avg_arr_delay</th>\n",
              "      <th>sum_arr_delay</th>\n",
              "      <th>max_arr_delay</th>\n",
              "    </tr>\n",
              "  </thead>\n",
              "  <tbody>\n",
              "    <tr>\n",
              "      <th>28</th>\n",
              "      <td>Air Wisconsin Airlines Corp</td>\n",
              "      <td>2018</td>\n",
              "      <td>16.753459</td>\n",
              "      <td>1606774.0</td>\n",
              "      <td>1296.0</td>\n",
              "      <td>17.881934</td>\n",
              "      <td>1708887.0</td>\n",
              "      <td>1292.0</td>\n",
              "    </tr>\n",
              "    <tr>\n",
              "      <th>54</th>\n",
              "      <td>Air Wisconsin Airlines Corp</td>\n",
              "      <td>2019</td>\n",
              "      <td>16.868511</td>\n",
              "      <td>1742281.0</td>\n",
              "      <td>1690.0</td>\n",
              "      <td>17.610384</td>\n",
              "      <td>1811545.0</td>\n",
              "      <td>1707.0</td>\n",
              "    </tr>\n",
              "    <tr>\n",
              "      <th>106</th>\n",
              "      <td>Air Wisconsin Airlines Corp</td>\n",
              "      <td>2020</td>\n",
              "      <td>8.583725</td>\n",
              "      <td>433315.0</td>\n",
              "      <td>1460.0</td>\n",
              "      <td>8.982529</td>\n",
              "      <td>452450.0</td>\n",
              "      <td>1439.0</td>\n",
              "    </tr>\n",
              "    <tr>\n",
              "      <th>6</th>\n",
              "      <td>Air Wisconsin Airlines Corp</td>\n",
              "      <td>2021</td>\n",
              "      <td>16.553045</td>\n",
              "      <td>1290194.0</td>\n",
              "      <td>1421.0</td>\n",
              "      <td>17.327440</td>\n",
              "      <td>1346602.0</td>\n",
              "      <td>1416.0</td>\n",
              "    </tr>\n",
              "    <tr>\n",
              "      <th>67</th>\n",
              "      <td>Air Wisconsin Airlines Corp</td>\n",
              "      <td>2022</td>\n",
              "      <td>13.124801</td>\n",
              "      <td>510581.0</td>\n",
              "      <td>1355.0</td>\n",
              "      <td>13.340409</td>\n",
              "      <td>517261.0</td>\n",
              "      <td>1353.0</td>\n",
              "    </tr>\n",
              "  </tbody>\n",
              "</table>\n",
              "</div>\n",
              "      <button class=\"colab-df-convert\" onclick=\"convertToInteractive('df-ecba8b1f-64ee-44dd-828c-62a006898e3e')\"\n",
              "              title=\"Convert this dataframe to an interactive table.\"\n",
              "              style=\"display:none;\">\n",
              "        \n",
              "  <svg xmlns=\"http://www.w3.org/2000/svg\" height=\"24px\"viewBox=\"0 0 24 24\"\n",
              "       width=\"24px\">\n",
              "    <path d=\"M0 0h24v24H0V0z\" fill=\"none\"/>\n",
              "    <path d=\"M18.56 5.44l.94 2.06.94-2.06 2.06-.94-2.06-.94-.94-2.06-.94 2.06-2.06.94zm-11 1L8.5 8.5l.94-2.06 2.06-.94-2.06-.94L8.5 2.5l-.94 2.06-2.06.94zm10 10l.94 2.06.94-2.06 2.06-.94-2.06-.94-.94-2.06-.94 2.06-2.06.94z\"/><path d=\"M17.41 7.96l-1.37-1.37c-.4-.4-.92-.59-1.43-.59-.52 0-1.04.2-1.43.59L10.3 9.45l-7.72 7.72c-.78.78-.78 2.05 0 2.83L4 21.41c.39.39.9.59 1.41.59.51 0 1.02-.2 1.41-.59l7.78-7.78 2.81-2.81c.8-.78.8-2.07 0-2.86zM5.41 20L4 18.59l7.72-7.72 1.47 1.35L5.41 20z\"/>\n",
              "  </svg>\n",
              "      </button>\n",
              "      \n",
              "  <style>\n",
              "    .colab-df-container {\n",
              "      display:flex;\n",
              "      flex-wrap:wrap;\n",
              "      gap: 12px;\n",
              "    }\n",
              "\n",
              "    .colab-df-convert {\n",
              "      background-color: #E8F0FE;\n",
              "      border: none;\n",
              "      border-radius: 50%;\n",
              "      cursor: pointer;\n",
              "      display: none;\n",
              "      fill: #1967D2;\n",
              "      height: 32px;\n",
              "      padding: 0 0 0 0;\n",
              "      width: 32px;\n",
              "    }\n",
              "\n",
              "    .colab-df-convert:hover {\n",
              "      background-color: #E2EBFA;\n",
              "      box-shadow: 0px 1px 2px rgba(60, 64, 67, 0.3), 0px 1px 3px 1px rgba(60, 64, 67, 0.15);\n",
              "      fill: #174EA6;\n",
              "    }\n",
              "\n",
              "    [theme=dark] .colab-df-convert {\n",
              "      background-color: #3B4455;\n",
              "      fill: #D2E3FC;\n",
              "    }\n",
              "\n",
              "    [theme=dark] .colab-df-convert:hover {\n",
              "      background-color: #434B5C;\n",
              "      box-shadow: 0px 1px 3px 1px rgba(0, 0, 0, 0.15);\n",
              "      filter: drop-shadow(0px 1px 2px rgba(0, 0, 0, 0.3));\n",
              "      fill: #FFFFFF;\n",
              "    }\n",
              "  </style>\n",
              "\n",
              "      <script>\n",
              "        const buttonEl =\n",
              "          document.querySelector('#df-ecba8b1f-64ee-44dd-828c-62a006898e3e button.colab-df-convert');\n",
              "        buttonEl.style.display =\n",
              "          google.colab.kernel.accessAllowed ? 'block' : 'none';\n",
              "\n",
              "        async function convertToInteractive(key) {\n",
              "          const element = document.querySelector('#df-ecba8b1f-64ee-44dd-828c-62a006898e3e');\n",
              "          const dataTable =\n",
              "            await google.colab.kernel.invokeFunction('convertToInteractive',\n",
              "                                                     [key], {});\n",
              "          if (!dataTable) return;\n",
              "\n",
              "          const docLinkHtml = 'Like what you see? Visit the ' +\n",
              "            '<a target=\"_blank\" href=https://colab.research.google.com/notebooks/data_table.ipynb>data table notebook</a>'\n",
              "            + ' to learn more about interactive tables.';\n",
              "          element.innerHTML = '';\n",
              "          dataTable['output_type'] = 'display_data';\n",
              "          await google.colab.output.renderOutput(dataTable, element);\n",
              "          const docLink = document.createElement('div');\n",
              "          docLink.innerHTML = docLinkHtml;\n",
              "          element.appendChild(docLink);\n",
              "        }\n",
              "      </script>\n",
              "    </div>\n",
              "  </div>\n",
              "  "
            ]
          },
          "metadata": {},
          "execution_count": 7
        }
      ]
    },
    {
      "cell_type": "code",
      "source": [
        "agg_spark.sort_values(['Airline','Year']).head()"
      ],
      "metadata": {
        "colab": {
          "base_uri": "https://localhost:8080/",
          "height": 423
        },
        "id": "2gaI1GbRUqqt",
        "outputId": "ab84137b-57c2-43f4-82e0-19b5e6820a72"
      },
      "execution_count": null,
      "outputs": [
        {
          "output_type": "execute_result",
          "data": {
            "text/plain": [
              "                         Airline  Year  avg_arr_delay  sum_arr_delay  \\\n",
              "0    Air Wisconsin Airlines Corp  2018      17.881934      1708887.0   \n",
              "48   Air Wisconsin Airlines Corp  2019      17.610384      1811545.0   \n",
              "56   Air Wisconsin Airlines Corp  2020       8.982529       452450.0   \n",
              "93   Air Wisconsin Airlines Corp  2021      17.327440      1346602.0   \n",
              "119  Air Wisconsin Airlines Corp  2022      13.340409       517261.0   \n",
              "\n",
              "     max_arr_delay  avg_dep_delay  sum_dep_delay  max_dep_delay  \n",
              "0           1292.0      16.753459      1606774.0         1296.0  \n",
              "48          1707.0      16.868511      1742281.0         1690.0  \n",
              "56          1439.0       8.583725       433315.0         1460.0  \n",
              "93          1416.0      16.553045      1290194.0         1421.0  \n",
              "119         1353.0      13.124801       510581.0         1355.0  "
            ],
            "text/html": [
              "\n",
              "  <div id=\"df-2f502219-c33b-4afb-a74a-6af770815b4d\">\n",
              "    <div class=\"colab-df-container\">\n",
              "      <div>\n",
              "<style scoped>\n",
              "    .dataframe tbody tr th:only-of-type {\n",
              "        vertical-align: middle;\n",
              "    }\n",
              "\n",
              "    .dataframe tbody tr th {\n",
              "        vertical-align: top;\n",
              "    }\n",
              "\n",
              "    .dataframe thead th {\n",
              "        text-align: right;\n",
              "    }\n",
              "</style>\n",
              "<table border=\"1\" class=\"dataframe\">\n",
              "  <thead>\n",
              "    <tr style=\"text-align: right;\">\n",
              "      <th></th>\n",
              "      <th>Airline</th>\n",
              "      <th>Year</th>\n",
              "      <th>avg_arr_delay</th>\n",
              "      <th>sum_arr_delay</th>\n",
              "      <th>max_arr_delay</th>\n",
              "      <th>avg_dep_delay</th>\n",
              "      <th>sum_dep_delay</th>\n",
              "      <th>max_dep_delay</th>\n",
              "    </tr>\n",
              "  </thead>\n",
              "  <tbody>\n",
              "    <tr>\n",
              "      <th>0</th>\n",
              "      <td>Air Wisconsin Airlines Corp</td>\n",
              "      <td>2018</td>\n",
              "      <td>17.881934</td>\n",
              "      <td>1708887.0</td>\n",
              "      <td>1292.0</td>\n",
              "      <td>16.753459</td>\n",
              "      <td>1606774.0</td>\n",
              "      <td>1296.0</td>\n",
              "    </tr>\n",
              "    <tr>\n",
              "      <th>48</th>\n",
              "      <td>Air Wisconsin Airlines Corp</td>\n",
              "      <td>2019</td>\n",
              "      <td>17.610384</td>\n",
              "      <td>1811545.0</td>\n",
              "      <td>1707.0</td>\n",
              "      <td>16.868511</td>\n",
              "      <td>1742281.0</td>\n",
              "      <td>1690.0</td>\n",
              "    </tr>\n",
              "    <tr>\n",
              "      <th>56</th>\n",
              "      <td>Air Wisconsin Airlines Corp</td>\n",
              "      <td>2020</td>\n",
              "      <td>8.982529</td>\n",
              "      <td>452450.0</td>\n",
              "      <td>1439.0</td>\n",
              "      <td>8.583725</td>\n",
              "      <td>433315.0</td>\n",
              "      <td>1460.0</td>\n",
              "    </tr>\n",
              "    <tr>\n",
              "      <th>93</th>\n",
              "      <td>Air Wisconsin Airlines Corp</td>\n",
              "      <td>2021</td>\n",
              "      <td>17.327440</td>\n",
              "      <td>1346602.0</td>\n",
              "      <td>1416.0</td>\n",
              "      <td>16.553045</td>\n",
              "      <td>1290194.0</td>\n",
              "      <td>1421.0</td>\n",
              "    </tr>\n",
              "    <tr>\n",
              "      <th>119</th>\n",
              "      <td>Air Wisconsin Airlines Corp</td>\n",
              "      <td>2022</td>\n",
              "      <td>13.340409</td>\n",
              "      <td>517261.0</td>\n",
              "      <td>1353.0</td>\n",
              "      <td>13.124801</td>\n",
              "      <td>510581.0</td>\n",
              "      <td>1355.0</td>\n",
              "    </tr>\n",
              "  </tbody>\n",
              "</table>\n",
              "</div>\n",
              "      <button class=\"colab-df-convert\" onclick=\"convertToInteractive('df-2f502219-c33b-4afb-a74a-6af770815b4d')\"\n",
              "              title=\"Convert this dataframe to an interactive table.\"\n",
              "              style=\"display:none;\">\n",
              "        \n",
              "  <svg xmlns=\"http://www.w3.org/2000/svg\" height=\"24px\"viewBox=\"0 0 24 24\"\n",
              "       width=\"24px\">\n",
              "    <path d=\"M0 0h24v24H0V0z\" fill=\"none\"/>\n",
              "    <path d=\"M18.56 5.44l.94 2.06.94-2.06 2.06-.94-2.06-.94-.94-2.06-.94 2.06-2.06.94zm-11 1L8.5 8.5l.94-2.06 2.06-.94-2.06-.94L8.5 2.5l-.94 2.06-2.06.94zm10 10l.94 2.06.94-2.06 2.06-.94-2.06-.94-.94-2.06-.94 2.06-2.06.94z\"/><path d=\"M17.41 7.96l-1.37-1.37c-.4-.4-.92-.59-1.43-.59-.52 0-1.04.2-1.43.59L10.3 9.45l-7.72 7.72c-.78.78-.78 2.05 0 2.83L4 21.41c.39.39.9.59 1.41.59.51 0 1.02-.2 1.41-.59l7.78-7.78 2.81-2.81c.8-.78.8-2.07 0-2.86zM5.41 20L4 18.59l7.72-7.72 1.47 1.35L5.41 20z\"/>\n",
              "  </svg>\n",
              "      </button>\n",
              "      \n",
              "  <style>\n",
              "    .colab-df-container {\n",
              "      display:flex;\n",
              "      flex-wrap:wrap;\n",
              "      gap: 12px;\n",
              "    }\n",
              "\n",
              "    .colab-df-convert {\n",
              "      background-color: #E8F0FE;\n",
              "      border: none;\n",
              "      border-radius: 50%;\n",
              "      cursor: pointer;\n",
              "      display: none;\n",
              "      fill: #1967D2;\n",
              "      height: 32px;\n",
              "      padding: 0 0 0 0;\n",
              "      width: 32px;\n",
              "    }\n",
              "\n",
              "    .colab-df-convert:hover {\n",
              "      background-color: #E2EBFA;\n",
              "      box-shadow: 0px 1px 2px rgba(60, 64, 67, 0.3), 0px 1px 3px 1px rgba(60, 64, 67, 0.15);\n",
              "      fill: #174EA6;\n",
              "    }\n",
              "\n",
              "    [theme=dark] .colab-df-convert {\n",
              "      background-color: #3B4455;\n",
              "      fill: #D2E3FC;\n",
              "    }\n",
              "\n",
              "    [theme=dark] .colab-df-convert:hover {\n",
              "      background-color: #434B5C;\n",
              "      box-shadow: 0px 1px 3px 1px rgba(0, 0, 0, 0.15);\n",
              "      filter: drop-shadow(0px 1px 2px rgba(0, 0, 0, 0.3));\n",
              "      fill: #FFFFFF;\n",
              "    }\n",
              "  </style>\n",
              "\n",
              "      <script>\n",
              "        const buttonEl =\n",
              "          document.querySelector('#df-2f502219-c33b-4afb-a74a-6af770815b4d button.colab-df-convert');\n",
              "        buttonEl.style.display =\n",
              "          google.colab.kernel.accessAllowed ? 'block' : 'none';\n",
              "\n",
              "        async function convertToInteractive(key) {\n",
              "          const element = document.querySelector('#df-2f502219-c33b-4afb-a74a-6af770815b4d');\n",
              "          const dataTable =\n",
              "            await google.colab.kernel.invokeFunction('convertToInteractive',\n",
              "                                                     [key], {});\n",
              "          if (!dataTable) return;\n",
              "\n",
              "          const docLinkHtml = 'Like what you see? Visit the ' +\n",
              "            '<a target=\"_blank\" href=https://colab.research.google.com/notebooks/data_table.ipynb>data table notebook</a>'\n",
              "            + ' to learn more about interactive tables.';\n",
              "          element.innerHTML = '';\n",
              "          dataTable['output_type'] = 'display_data';\n",
              "          await google.colab.output.renderOutput(dataTable, element);\n",
              "          const docLink = document.createElement('div');\n",
              "          docLink.innerHTML = docLinkHtml;\n",
              "          element.appendChild(docLink);\n",
              "        }\n",
              "      </script>\n",
              "    </div>\n",
              "  </div>\n",
              "  "
            ]
          },
          "metadata": {},
          "execution_count": 8
        }
      ]
    },
    {
      "cell_type": "code",
      "source": [
        "agg_dask.sort_values(['Airline','Year']).head()"
      ],
      "metadata": {
        "colab": {
          "base_uri": "https://localhost:8080/",
          "height": 237
        },
        "id": "YI4dyRM0Uu9F",
        "outputId": "adfd5311-ce97-4330-f7b4-7d9c0c6b6506"
      },
      "execution_count": null,
      "outputs": [
        {
          "output_type": "execute_result",
          "data": {
            "text/plain": [
              "                       Airline  Year DepDelayMinutes                      \\\n",
              "                                                mean         sum     max   \n",
              "0  Air Wisconsin Airlines Corp  2019       16.868511   1742281.0  1690.0   \n",
              "1         Alaska Airlines Inc.  2019        9.836041   2576246.0  1117.0   \n",
              "2                Allegiant Air  2019       14.678433   1536876.0  1979.0   \n",
              "3       American Airlines Inc.  2019       14.895515  13814816.0  2315.0   \n",
              "4  Capital Cargo International  2019       11.525332   1367642.0  1182.0   \n",
              "\n",
              "  ArrDelayMinutes                      \n",
              "             mean         sum     max  \n",
              "0       17.610384   1811545.0  1707.0  \n",
              "1       10.787284   2815643.0  1087.0  \n",
              "2       15.556524   1624770.0  1966.0  \n",
              "3       15.251863  14096412.0  2350.0  \n",
              "4       12.489465   1474806.0  1190.0  "
            ],
            "text/html": [
              "\n",
              "  <div id=\"df-3eb59c97-0f2d-4bdb-8f8f-214431fb39e8\">\n",
              "    <div class=\"colab-df-container\">\n",
              "      <div>\n",
              "<style scoped>\n",
              "    .dataframe tbody tr th:only-of-type {\n",
              "        vertical-align: middle;\n",
              "    }\n",
              "\n",
              "    .dataframe tbody tr th {\n",
              "        vertical-align: top;\n",
              "    }\n",
              "\n",
              "    .dataframe thead tr th {\n",
              "        text-align: left;\n",
              "    }\n",
              "</style>\n",
              "<table border=\"1\" class=\"dataframe\">\n",
              "  <thead>\n",
              "    <tr>\n",
              "      <th></th>\n",
              "      <th>Airline</th>\n",
              "      <th>Year</th>\n",
              "      <th colspan=\"3\" halign=\"left\">DepDelayMinutes</th>\n",
              "      <th colspan=\"3\" halign=\"left\">ArrDelayMinutes</th>\n",
              "    </tr>\n",
              "    <tr>\n",
              "      <th></th>\n",
              "      <th></th>\n",
              "      <th></th>\n",
              "      <th>mean</th>\n",
              "      <th>sum</th>\n",
              "      <th>max</th>\n",
              "      <th>mean</th>\n",
              "      <th>sum</th>\n",
              "      <th>max</th>\n",
              "    </tr>\n",
              "  </thead>\n",
              "  <tbody>\n",
              "    <tr>\n",
              "      <th>0</th>\n",
              "      <td>Air Wisconsin Airlines Corp</td>\n",
              "      <td>2019</td>\n",
              "      <td>16.868511</td>\n",
              "      <td>1742281.0</td>\n",
              "      <td>1690.0</td>\n",
              "      <td>17.610384</td>\n",
              "      <td>1811545.0</td>\n",
              "      <td>1707.0</td>\n",
              "    </tr>\n",
              "    <tr>\n",
              "      <th>1</th>\n",
              "      <td>Alaska Airlines Inc.</td>\n",
              "      <td>2019</td>\n",
              "      <td>9.836041</td>\n",
              "      <td>2576246.0</td>\n",
              "      <td>1117.0</td>\n",
              "      <td>10.787284</td>\n",
              "      <td>2815643.0</td>\n",
              "      <td>1087.0</td>\n",
              "    </tr>\n",
              "    <tr>\n",
              "      <th>2</th>\n",
              "      <td>Allegiant Air</td>\n",
              "      <td>2019</td>\n",
              "      <td>14.678433</td>\n",
              "      <td>1536876.0</td>\n",
              "      <td>1979.0</td>\n",
              "      <td>15.556524</td>\n",
              "      <td>1624770.0</td>\n",
              "      <td>1966.0</td>\n",
              "    </tr>\n",
              "    <tr>\n",
              "      <th>3</th>\n",
              "      <td>American Airlines Inc.</td>\n",
              "      <td>2019</td>\n",
              "      <td>14.895515</td>\n",
              "      <td>13814816.0</td>\n",
              "      <td>2315.0</td>\n",
              "      <td>15.251863</td>\n",
              "      <td>14096412.0</td>\n",
              "      <td>2350.0</td>\n",
              "    </tr>\n",
              "    <tr>\n",
              "      <th>4</th>\n",
              "      <td>Capital Cargo International</td>\n",
              "      <td>2019</td>\n",
              "      <td>11.525332</td>\n",
              "      <td>1367642.0</td>\n",
              "      <td>1182.0</td>\n",
              "      <td>12.489465</td>\n",
              "      <td>1474806.0</td>\n",
              "      <td>1190.0</td>\n",
              "    </tr>\n",
              "  </tbody>\n",
              "</table>\n",
              "</div>\n",
              "      <button class=\"colab-df-convert\" onclick=\"convertToInteractive('df-3eb59c97-0f2d-4bdb-8f8f-214431fb39e8')\"\n",
              "              title=\"Convert this dataframe to an interactive table.\"\n",
              "              style=\"display:none;\">\n",
              "        \n",
              "  <svg xmlns=\"http://www.w3.org/2000/svg\" height=\"24px\"viewBox=\"0 0 24 24\"\n",
              "       width=\"24px\">\n",
              "    <path d=\"M0 0h24v24H0V0z\" fill=\"none\"/>\n",
              "    <path d=\"M18.56 5.44l.94 2.06.94-2.06 2.06-.94-2.06-.94-.94-2.06-.94 2.06-2.06.94zm-11 1L8.5 8.5l.94-2.06 2.06-.94-2.06-.94L8.5 2.5l-.94 2.06-2.06.94zm10 10l.94 2.06.94-2.06 2.06-.94-2.06-.94-.94-2.06-.94 2.06-2.06.94z\"/><path d=\"M17.41 7.96l-1.37-1.37c-.4-.4-.92-.59-1.43-.59-.52 0-1.04.2-1.43.59L10.3 9.45l-7.72 7.72c-.78.78-.78 2.05 0 2.83L4 21.41c.39.39.9.59 1.41.59.51 0 1.02-.2 1.41-.59l7.78-7.78 2.81-2.81c.8-.78.8-2.07 0-2.86zM5.41 20L4 18.59l7.72-7.72 1.47 1.35L5.41 20z\"/>\n",
              "  </svg>\n",
              "      </button>\n",
              "      \n",
              "  <style>\n",
              "    .colab-df-container {\n",
              "      display:flex;\n",
              "      flex-wrap:wrap;\n",
              "      gap: 12px;\n",
              "    }\n",
              "\n",
              "    .colab-df-convert {\n",
              "      background-color: #E8F0FE;\n",
              "      border: none;\n",
              "      border-radius: 50%;\n",
              "      cursor: pointer;\n",
              "      display: none;\n",
              "      fill: #1967D2;\n",
              "      height: 32px;\n",
              "      padding: 0 0 0 0;\n",
              "      width: 32px;\n",
              "    }\n",
              "\n",
              "    .colab-df-convert:hover {\n",
              "      background-color: #E2EBFA;\n",
              "      box-shadow: 0px 1px 2px rgba(60, 64, 67, 0.3), 0px 1px 3px 1px rgba(60, 64, 67, 0.15);\n",
              "      fill: #174EA6;\n",
              "    }\n",
              "\n",
              "    [theme=dark] .colab-df-convert {\n",
              "      background-color: #3B4455;\n",
              "      fill: #D2E3FC;\n",
              "    }\n",
              "\n",
              "    [theme=dark] .colab-df-convert:hover {\n",
              "      background-color: #434B5C;\n",
              "      box-shadow: 0px 1px 3px 1px rgba(0, 0, 0, 0.15);\n",
              "      filter: drop-shadow(0px 1px 2px rgba(0, 0, 0, 0.3));\n",
              "      fill: #FFFFFF;\n",
              "    }\n",
              "  </style>\n",
              "\n",
              "      <script>\n",
              "        const buttonEl =\n",
              "          document.querySelector('#df-3eb59c97-0f2d-4bdb-8f8f-214431fb39e8 button.colab-df-convert');\n",
              "        buttonEl.style.display =\n",
              "          google.colab.kernel.accessAllowed ? 'block' : 'none';\n",
              "\n",
              "        async function convertToInteractive(key) {\n",
              "          const element = document.querySelector('#df-3eb59c97-0f2d-4bdb-8f8f-214431fb39e8');\n",
              "          const dataTable =\n",
              "            await google.colab.kernel.invokeFunction('convertToInteractive',\n",
              "                                                     [key], {});\n",
              "          if (!dataTable) return;\n",
              "\n",
              "          const docLinkHtml = 'Like what you see? Visit the ' +\n",
              "            '<a target=\"_blank\" href=https://colab.research.google.com/notebooks/data_table.ipynb>data table notebook</a>'\n",
              "            + ' to learn more about interactive tables.';\n",
              "          element.innerHTML = '';\n",
              "          dataTable['output_type'] = 'display_data';\n",
              "          await google.colab.output.renderOutput(dataTable, element);\n",
              "          const docLink = document.createElement('div');\n",
              "          docLink.innerHTML = docLinkHtml;\n",
              "          element.appendChild(docLink);\n",
              "        }\n",
              "      </script>\n",
              "    </div>\n",
              "  </div>\n",
              "  "
            ]
          },
          "metadata": {},
          "execution_count": 9
        }
      ]
    }
  ],
  "metadata": {
    "colab": {
      "provenance": [],
      "collapsed_sections": [
        "HE9EI1NLBLtT"
      ],
      "include_colab_link": true
    },
    "kernelspec": {
      "display_name": "Python 3",
      "name": "python3"
    },
    "language_info": {
      "name": "python"
    }
  },
  "nbformat": 4,
  "nbformat_minor": 0
}